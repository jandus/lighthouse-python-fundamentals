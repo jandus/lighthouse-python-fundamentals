{
 "cells": [
  {
   "cell_type": "markdown",
   "metadata": {},
   "source": [
    "# UDFs in Python"
   ]
  },
  {
   "cell_type": "markdown",
   "metadata": {},
   "source": [
    "#### Greeter\n",
    "Write a function that takes in a person's name, and prints out a greeting.\n",
    "The greeting must be at least three lines, and the person's name must be in each line.\n",
    "Use your function to greet at least **three** different people.\n",
    "\n",
    "**Bonus:** Store your three people in a list, and call your function from a for loop.\n",
    "\n",
    "\n",
    "**Example Output:**\n",
    "\n",
    "Hello John!<br>\n",
    "Hello John!<br>\n",
    "Hello John!<br>"
   ]
  },
  {
   "cell_type": "code",
   "execution_count": 1,
   "metadata": {},
   "outputs": [],
   "source": [
    "def message(args):\n",
    "    for i in args:\n",
    "        print(\"Hello {}!\".format(i))"
   ]
  },
  {
   "cell_type": "code",
   "execution_count": 2,
   "metadata": {},
   "outputs": [
    {
     "name": "stdout",
     "output_type": "stream",
     "text": [
      "Hello John!\n",
      "Hello Jane!\n",
      "Hello Joe!\n"
     ]
    }
   ],
   "source": [
    "people = [\"John\", \"Jane\", \"Joe\"]\n",
    "message(people)"
   ]
  },
  {
   "cell_type": "markdown",
   "metadata": {},
   "source": [
    "#### Full Names\n",
    "Write a function that takes in a first name and a last name, and prints out a nicely formatted full name, in a sentence. Your sentence could be as simple as, \"Hello, full_name.\""
   ]
  },
  {
   "cell_type": "code",
   "execution_count": 3,
   "metadata": {},
   "outputs": [],
   "source": [
    "def full_name(first_name, last_name):\n",
    "    print(\"Hello, {} {}.\".format(first_name,last_name))\n"
   ]
  },
  {
   "cell_type": "code",
   "execution_count": 4,
   "metadata": {},
   "outputs": [
    {
     "name": "stdout",
     "output_type": "stream",
     "text": [
      "Hello, Johnny Cash.\n"
     ]
    }
   ],
   "source": [
    "full_name(\"Johnny\", \"Cash\")"
   ]
  },
  {
   "cell_type": "markdown",
   "metadata": {},
   "source": [
    "#### Addition Calculator\n",
    "Write a function that takes in two numbers, and adds them together. Make your function print out a sentence showing the two numbers, and the result.\n",
    "\n",
    "**Example Output:**\n",
    "\n",
    "The sum of 2 and 3 is 5."
   ]
  },
  {
   "cell_type": "code",
   "execution_count": 5,
   "metadata": {},
   "outputs": [],
   "source": [
    "def addition_calculator(num1, num2):\n",
    "    total = num1 + num2\n",
    "    print(\"The sum of {} and {} is {}\".format(num1, num2, total))"
   ]
  },
  {
   "cell_type": "code",
   "execution_count": 6,
   "metadata": {},
   "outputs": [
    {
     "name": "stdout",
     "output_type": "stream",
     "text": [
      "The sum of 40 and 61 is 101\n"
     ]
    }
   ],
   "source": [
    "addition_calculator(40,61)"
   ]
  },
  {
   "cell_type": "markdown",
   "metadata": {},
   "source": [
    "#### Return Calculator\n",
    "Modify Addition Calculator so that your function **returns** the sum of the two numbers. The printing should happen outside of the function."
   ]
  },
  {
   "cell_type": "code",
   "execution_count": 7,
   "metadata": {},
   "outputs": [],
   "source": [
    "def return_calculator(num1, num2):\n",
    "    return num1 + num2"
   ]
  },
  {
   "cell_type": "code",
   "execution_count": 8,
   "metadata": {},
   "outputs": [
    {
     "name": "stdout",
     "output_type": "stream",
     "text": [
      "The sum of 40 and 61 is 101\n"
     ]
    }
   ],
   "source": [
    "first_num= 40\n",
    "second_num= 61\n",
    "\n",
    "print(f\"The sum of {first_num} and {second_num} is {return_calculator(first_num,second_num)}\")"
   ]
  },
  {
   "cell_type": "markdown",
   "metadata": {},
   "source": [
    "#### Sum everything in the list\n",
    "\n",
    "Write a Python function to sum all the numbers in a list"
   ]
  },
  {
   "cell_type": "code",
   "execution_count": 9,
   "metadata": {},
   "outputs": [],
   "source": [
    "def sum_list(numbers):\n",
    "    sum = 0\n",
    "    for num in numbers:\n",
    "        sum += num\n",
    "    return sum"
   ]
  },
  {
   "cell_type": "code",
   "execution_count": 10,
   "metadata": {},
   "outputs": [
    {
     "data": {
      "text/plain": [
       "1260"
      ]
     },
     "execution_count": 10,
     "metadata": {},
     "output_type": "execute_result"
    }
   ],
   "source": [
    "numl = [1, 2, 3, 4, 1000, 40, 80, 100, 20, 10]\n",
    "sum_list(numl)"
   ]
  },
  {
   "cell_type": "markdown",
   "metadata": {},
   "source": [
    "#### Reverse string\n",
    "\n",
    "Write a Python program to reverse a string.\n",
    "\n",
    "Sample String : \"1234abcd\" <br>\n",
    "Expected Output : \"dcba4321\""
   ]
  },
  {
   "cell_type": "code",
   "execution_count": 11,
   "metadata": {},
   "outputs": [],
   "source": [
    "def reverse_string(s):\n",
    "    return s[::-1]"
   ]
  },
  {
   "cell_type": "code",
   "execution_count": 12,
   "metadata": {},
   "outputs": [
    {
     "name": "stdout",
     "output_type": "stream",
     "text": [
      "dcba4321\n"
     ]
    }
   ],
   "source": [
    "s = \"1234abcd\"\n",
    "print(reverse_string(s))"
   ]
  },
  {
   "cell_type": "markdown",
   "metadata": {},
   "source": [
    "#### Range check\n",
    "\n",
    "Write a Python function to check whether a number is in a given range. \n",
    "\n",
    "Inputs: number, tuple of min and max<br>\n",
    "Outputs: True/False"
   ]
  },
  {
   "cell_type": "code",
   "execution_count": 13,
   "metadata": {},
   "outputs": [],
   "source": [
    "def range_check(num, min_max):\n",
    "    return min_max[0] <= num <= min_max[1]"
   ]
  },
  {
   "cell_type": "code",
   "execution_count": 14,
   "metadata": {},
   "outputs": [
    {
     "data": {
      "text/plain": [
       "True"
      ]
     },
     "execution_count": 14,
     "metadata": {},
     "output_type": "execute_result"
    }
   ],
   "source": [
    "num_range = (-2,10)\n",
    "num = 0\n",
    "\n",
    "range_check(num, num_range)"
   ]
  },
  {
   "cell_type": "code",
   "execution_count": null,
   "metadata": {},
   "outputs": [],
   "source": []
  }
 ],
 "metadata": {
  "kernelspec": {
   "display_name": "Python 3",
   "language": "python",
   "name": "python3"
  },
  "language_info": {
   "codemirror_mode": {
    "name": "ipython",
    "version": 3
   },
   "file_extension": ".py",
   "mimetype": "text/x-python",
   "name": "python",
   "nbconvert_exporter": "python",
   "pygments_lexer": "ipython3",
   "version": "3.8.5"
  }
 },
 "nbformat": 4,
 "nbformat_minor": 4
}
