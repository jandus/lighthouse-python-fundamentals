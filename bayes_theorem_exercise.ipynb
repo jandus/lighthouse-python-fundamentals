{
 "cells": [
  {
   "cell_type": "markdown",
   "metadata": {
    "ExecuteTime": {
     "end_time": "2020-02-05T17:56:18.818219Z",
     "start_time": "2020-02-05T17:56:18.810698Z"
    }
   },
   "source": [
    "## Exercise 1\n",
    "In Orange County, 51% of the adults are males. (It doesn't take too much advanced\n",
    "mathematics to deduce that the other 49% are females.) One adult is randomly selected\n",
    "for a survey involving credit card usage.\n",
    "\n",
    "- **(a)** Find the probability that the selected person is a male.\n",
    "\n",
    "- **(b)** It is later learned that the selected survey subject was smoking a cigar. Also, 9.5% of males smoke cigars, whereas 1.7% of females smoke cigars (based on data from the Substance Abuse and Mental Health Services Administration). Use this additional information to find the probability that the cigar−smoking respondent is a male\n",
    "\n",
    "Use following notation:\n",
    "M = male <br>\n",
    "F = female <br>\n",
    "C = cigar smoker<br>\n",
    "NC = not a cigar smoker<br>"
   ]
  },
  {
   "cell_type": "code",
   "execution_count": 53,
   "metadata": {},
   "outputs": [
    {
     "data": {
      "text/plain": [
       "0.51"
      ]
     },
     "execution_count": 53,
     "metadata": {},
     "output_type": "execute_result"
    }
   ],
   "source": [
    "# a probability of that selected person is a male is 51%\n",
    "M = 0.51"
   ]
  },
  {
   "cell_type": "code",
   "execution_count": 45,
   "metadata": {},
   "outputs": [],
   "source": [
    "# P(M|C) = P(M) P(C|M) / P(C)\n",
    "\n",
    "# P(M) Probability person is Male is 51%\n",
    "# P(C|M) Probability person is Male and smokes is 9.5%\n",
    "# P(C) Probability person smokes = (M * (C|M)) + (F * (C|F)) "
   ]
  },
  {
   "cell_type": "code",
   "execution_count": 46,
   "metadata": {},
   "outputs": [
    {
     "name": "stdout",
     "output_type": "stream",
     "text": [
      "Probability that the cigar-smoking respondent is male is 85.32934131736528 %\n"
     ]
    }
   ],
   "source": [
    "M = .51\n",
    "MC = 0.095\n",
    "F = .49\n",
    "FC = 0.017\n",
    "\n",
    "C = (M * CM) + (F * FC)\n",
    "\n",
    "\n",
    "P_M_C = (M * CM) / C\n",
    "print(f\"Probability that the cigar-smoking respondent is male is {P_M_C * 100} %\")"
   ]
  },
  {
   "cell_type": "markdown",
   "metadata": {
    "ExecuteTime": {
     "end_time": "2020-02-05T17:56:20.532960Z",
     "start_time": "2020-02-05T17:56:20.525450Z"
    }
   },
   "source": [
    "# Exercise 2\n",
    "\n",
    "A diagnostic test has a probability 0.95 of giving a positive result when applied to a person suffering\n",
    "from a certain disease, and a probability 0.10 of giving a (false) positive when applied to a non-sufferer. It is\n",
    "estimated that 0.5 % of the population are sufferers. Suppose that the test is now administered to a person about\n",
    "whom we have no relevant information relating to the disease (apart from the fact that he/she comes from this\n",
    "population). \n",
    "\n",
    "Calculate the following probabilities:\n",
    "- **(a)** that the test result will be positive;\n",
    "- **(b)** that, given a positive result, the person is a sufferer;\n",
    "- **(c)** that, given a negative result, the person is a non-sufferer;\n",
    "- **(d)** that the person will be misclassified.\n",
    "\n",
    "Use following notation:\n",
    "\n",
    "T = test positive <br>\n",
    "NT = test negative<br>\n",
    "S = sufferer<br>\n",
    "NS = non-sufferer<br>\n",
    "M = misclassified<br>\n",
    "\n",
    "Solve it by two approaches:\n",
    "1. Arithmetically\n",
    "2. By simulation"
   ]
  },
  {
   "cell_type": "code",
   "execution_count": 3,
   "metadata": {},
   "outputs": [
    {
     "name": "stdout",
     "output_type": "stream",
     "text": [
      "Probability that the result will be possitive 4.5563549160671455 %\n"
     ]
    }
   ],
   "source": [
    "# 1\n",
    "# P(sufferer|yes) = P(sufferer) P(yes|sufferer)\n",
    "#                           P(yes)\n",
    "\n",
    "T = 0.95 # P(yes|sufferer)\n",
    "M = 0.10\n",
    "S = 0.005 # P(sufferer)\n",
    "NS = 0.995\n",
    "\n",
    "prob = (S * T) / ((S * T) + (NS * M))\n",
    "\n",
    "print(f\"Probability that the result will be possitive {prob * 100} %\")"
   ]
  },
  {
   "cell_type": "code",
   "execution_count": 1,
   "metadata": {},
   "outputs": [],
   "source": [
    "#2 By simulation\n",
    "import numpy as np\n",
    "\n",
    "# how many times we run the simulation\n",
    "n_tests = 10000000\n",
    "\n",
    "# initialize variables\n",
    "\n",
    "S = 0\n",
    "NS = 0\n",
    "T = 0\n",
    "NT = 0\n",
    "M = 0\n",
    "\n",
    "# Create probabilities that test result will be positive\n",
    "\n",
    "for _ in range(n_tests):\n",
    "    #Test to be positive\n",
    "    if np.random.random() < 0.005:\n",
    "        # when Possitive\n",
    "        if np.random.random() < 0.95:\n",
    "            T += 1\n",
    "            S += 1\n",
    "        # Test is negative\n",
    "        else:\n",
    "            NT += 1\n",
    "            M += 1\n",
    "    else:\n",
    "        if np.random.random() < 0.1:\n",
    "            T += 1\n",
    "            M +=1\n",
    "        else:\n",
    "            NT += 1\n",
    "            NS = 1\n",
    "            \n",
    "# Create Probabilities\n",
    "\n",
    "P_S = S / n_tests * 100\n",
    "P_NS = NS / n_tests * 100\n",
    "P_T = T / n_tests * 100\n",
    "P_NT = NT / n_tests * 100\n",
    "P_M = M / n_tests * 100"
   ]
  },
  {
   "cell_type": "code",
   "execution_count": 2,
   "metadata": {},
   "outputs": [
    {
     "name": "stdout",
     "output_type": "stream",
     "text": [
      "Person is sufferer 0.47714999999999996%\n",
      "Person is not sufferer 9.999999999999999e-06%\n",
      "Test is positive: 10.42488%\n",
      "Test is negative 89.57512%\n",
      "Persons missclasified  9.97315%\n"
     ]
    }
   ],
   "source": [
    "print(f\"Person is sufferer {P_S}%\")\n",
    "print(f\"Person is not sufferer {P_NS}%\")\n",
    "print(f\"Test is positive: {P_T}%\")\n",
    "print(f\"Test is negative {P_NT}%\")\n",
    "print(f\"Persons missclasified  {P_M}%\")"
   ]
  }
 ],
 "metadata": {
  "kernelspec": {
   "display_name": "Python 3",
   "language": "python",
   "name": "python3"
  },
  "language_info": {
   "codemirror_mode": {
    "name": "ipython",
    "version": 3
   },
   "file_extension": ".py",
   "mimetype": "text/x-python",
   "name": "python",
   "nbconvert_exporter": "python",
   "pygments_lexer": "ipython3",
   "version": "3.8.5"
  },
  "toc": {
   "base_numbering": 1,
   "nav_menu": {},
   "number_sections": true,
   "sideBar": true,
   "skip_h1_title": false,
   "title_cell": "Table of Contents",
   "title_sidebar": "Contents",
   "toc_cell": false,
   "toc_position": {},
   "toc_section_display": true,
   "toc_window_display": false
  },
  "varInspector": {
   "cols": {
    "lenName": 16,
    "lenType": 16,
    "lenVar": 40
   },
   "kernels_config": {
    "python": {
     "delete_cmd_postfix": "",
     "delete_cmd_prefix": "del ",
     "library": "var_list.py",
     "varRefreshCmd": "print(var_dic_list())"
    },
    "r": {
     "delete_cmd_postfix": ") ",
     "delete_cmd_prefix": "rm(",
     "library": "var_list.r",
     "varRefreshCmd": "cat(var_dic_list()) "
    }
   },
   "types_to_exclude": [
    "module",
    "function",
    "builtin_function_or_method",
    "instance",
    "_Feature"
   ],
   "window_display": false
  }
 },
 "nbformat": 4,
 "nbformat_minor": 4
}
